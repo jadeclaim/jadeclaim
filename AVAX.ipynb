{
 "cells": [
  {
   "cell_type": "code",
   "execution_count": 22,
   "id": "acc18f16",
   "metadata": {},
   "outputs": [],
   "source": [
    "import json"
   ]
  },
  {
   "cell_type": "code",
   "execution_count": 23,
   "id": "d39f40a4",
   "metadata": {
    "lines_to_next_cell": 0
   },
   "outputs": [],
   "source": [
    "import pandas as pd\n",
    "\n",
    "foo = lambda x: eval(x) if isinstance(x, str) else x\n",
    "\n",
    "import os"
   ]
  },
  {
   "cell_type": "code",
   "execution_count": 24,
   "id": "35d5d9b2",
   "metadata": {},
   "outputs": [],
   "source": [
    "from pathlib import Path"
   ]
  },
  {
   "cell_type": "code",
   "execution_count": 25,
   "id": "012f0bb3",
   "metadata": {},
   "outputs": [],
   "source": [
    "bsc_balances_path = Path(\"./data/avax/balances\")\n",
    "files = [p for p in bsc_balances_path.iterdir()]"
   ]
  },
  {
   "cell_type": "code",
   "execution_count": 26,
   "id": "e4f1ae99",
   "metadata": {},
   "outputs": [],
   "source": [
    "MULTICALL = \"0x6e219eb5856388a28Fa8BD2311dedF8B4194422D\"\n",
    "ignore = [\n",
    "    \"0xf41E19fE47D63C7F6ec20722aF749D1aC625815D\",\n",
    "    \"0xab47ded800cee16950ab70f6063d0fe199a4c488\",\n",
    "    \"0xDcbB8a0FE62aE5064Bd36379eEe594Cc9861A384\",\n",
    "    \"0x80B010450fDAf6a3f8dF033Ee296E92751D603B3\",\n",
    "    \"0x8DEF3929FDa2332b523488c0b4dDDeEa7553dB6f\",\n",
    "    \"0x73f503fad13203c87889c3d5c567550b2d41d7a4\",\n",
    "    \"0x273673f62198744c31129f6353f5bbd5b1d01ec0\",\n",
    "    \"0x3D9eAB723df76808bB84c05b20De27A2e69EF293\",\n",
    "    \n",
    "]\n",
    "jade = \"0x80B010450fDAf6a3f8dF033Ee296E92751D603B3\"\n",
    "sJade = \"0x3D9eAB723df76808bB84c05b20De27A2e69EF293\""
   ]
  },
  {
   "cell_type": "code",
   "execution_count": 27,
   "id": "9b442563",
   "metadata": {},
   "outputs": [],
   "source": [
    "exclude = [\n",
    "    \"0x000000000000000000000000000000000000dead\",\n",
    "    \"0x9448e099761da0253ef2fa9296d2ba77d322e28c\",\n",
    "    \"0x91b4c8de02c3396860d032eb987a51cb0dec56f6\",\n",
    "    \"0x45ecfd1f5cf000a8320d8b88d53373bdf964f091\",\n",
    "    \"0x273673f62198744c31129f6353f5bbd5b1d01ec0\",\n",
    "    \"0x02944e3fb72aa13095d7cebd8389fc74bec8e48e\",\n",
    "\"0x6f0bc6217faa5a2f503c057ee6964b756a09ae2c\",\n",
    "\"0xf15ff5df9924dbf0f257a79b63bf5678701af564\",\n",
    "\"0xd012a9c8159b0e7325448ed30b1499fdddac0f40\",\n",
    "\"0x489f866c0698c8d6879f5c0f527bc8281046042d\",\n",
    "\"0xcb0718b150552af8904e7cb1c62758dcb149b072\",\n",
    "\"0xaea6b4aad5e315a40afd77a1f794f61161499fa5\",\n",
    "\"0x169169a50d9a8fbf99edacf9aa10297e2b3c92dd\",\n",
    "\"0x1aa87a1554919f1537e48626eaa49cb3e967a737\",\n",
    "\"0x91b4c8de02c3396860d032eb987a51cb0dec56f6\",\n",
    "\"0x45ecfd1f5cf000a8320d8b88d53373bdf964f091\",\n",
    "\"0x9448E099761DA0253ef2fA9296D2ba77d322e28C\",\n",
    "\n",
    "]\n",
    "exclude = [e.lower() for e in exclude]"
   ]
  },
  {
   "cell_type": "code",
   "execution_count": 28,
   "id": "2cb81d51",
   "metadata": {},
   "outputs": [],
   "source": [
    "AIRDROPS = [\"0xef874e86acca337ec2e744babd40d2b17ce5898e\"]"
   ]
  },
  {
   "cell_type": "code",
   "execution_count": 29,
   "id": "411c9e30",
   "metadata": {},
   "outputs": [],
   "source": [
    "lists_sources = {str(name).split(\"/\")[-1]: json.load(open(name, \"r\")) for name in files}"
   ]
  },
  {
   "cell_type": "code",
   "execution_count": 30,
   "id": "59e32b99",
   "metadata": {},
   "outputs": [],
   "source": [
    "for key, vals in lists_sources.items():\n",
    "    vals = {a.lower(): v for a, v in vals.items()}\n",
    "    lists_sources[key] = vals"
   ]
  },
  {
   "cell_type": "code",
   "execution_count": 31,
   "id": "5d7044aa",
   "metadata": {},
   "outputs": [],
   "source": [
    "df = pd.DataFrame(lists_sources)\n",
    "df.index = [i.lower() for i in df.index]\n",
    "ignore = [i.lower() for i in ignore]"
   ]
  },
  {
   "cell_type": "code",
   "execution_count": 32,
   "id": "0dc1ff9b",
   "metadata": {},
   "outputs": [],
   "source": [
    "df = df.fillna(0)\n",
    "df = df // 10**9"
   ]
  },
  {
   "cell_type": "code",
   "execution_count": 33,
   "id": "9cb629c9",
   "metadata": {},
   "outputs": [],
   "source": [
    "jade_column = [c for c in df.columns if \"holder\" in c][0]"
   ]
  },
  {
   "cell_type": "code",
   "execution_count": 34,
   "id": "fe899ed5",
   "metadata": {},
   "outputs": [
    {
     "data": {
      "text/plain": [
       "['holders_0x80B010450fDAf6a3f8dF033Ee296E92751D603B3.json']"
      ]
     },
     "execution_count": 34,
     "metadata": {},
     "output_type": "execute_result"
    }
   ],
   "source": [
    "[c for c in df.columns if \"holder\" in c]"
   ]
  },
  {
   "cell_type": "code",
   "execution_count": 35,
   "id": "0f1cd8b1",
   "metadata": {
    "scrolled": false
   },
   "outputs": [
    {
     "name": "stdout",
     "output_type": "stream",
     "text": [
      "bond_0xab47ded800cee16950ab70f6063d0fe199a4c488.json\n",
      "sablier_0x73f503fad13203c87889c3d5c567550b2d41d7a4.json\n",
      "airdrop_0xef874e86acca337ec2e744babd40d2b17ce5898e.json\n",
      "lp_0x8DEF3929FDa2332b523488c0b4dDDeEa7553dB6f.json\n",
      "bond_0xDcbB8a0FE62aE5064Bd36379eEe594Cc9861A384.json\n",
      "holders_0x80B010450fDAf6a3f8dF033Ee296E92751D603B3.json\n",
      "bond_0xf41E19fE47D63C7F6ec20722aF749D1aC625815D.json\n",
      "staking_0x273673f62198744c31129f6353f5bbd5b1d01ec0.json\n"
     ]
    }
   ],
   "source": [
    "for col in df.columns:\n",
    "    print(col)\n",
    "    df[col] = df[col].astype(pd.Int64Dtype())"
   ]
  },
  {
   "cell_type": "code",
   "execution_count": null,
   "id": "5e6185d3",
   "metadata": {
    "scrolled": true
   },
   "outputs": [],
   "source": []
  },
  {
   "cell_type": "code",
   "execution_count": 36,
   "id": "95e6dfd6",
   "metadata": {},
   "outputs": [
    {
     "name": "stdout",
     "output_type": "stream",
     "text": [
      "718623517390\n"
     ]
    }
   ],
   "source": [
    "for c in df.columns:\n",
    "    split = c.split(\"_\")\n",
    "    addr = split[-1][:-5]\n",
    "    kind = split[0]\n",
    "    if kind != \"airdrop\":\n",
    "        continue\n",
    "    s = df[c].sum()\n",
    "    df.loc[addr, jade_column] -= s\n",
    "    print(s)"
   ]
  },
  {
   "cell_type": "code",
   "execution_count": 16,
   "id": "b192f6af",
   "metadata": {},
   "outputs": [],
   "source": [
    "df[\"excluded\"] = [i in ignore for i in df.index]"
   ]
  },
  {
   "cell_type": "code",
   "execution_count": 17,
   "id": "18f6c137",
   "metadata": {},
   "outputs": [],
   "source": [
    "df.to_csv(\"./data/AVAX_FINAL_RAW.csv\")"
   ]
  },
  {
   "cell_type": "code",
   "execution_count": 18,
   "id": "5f633b2f",
   "metadata": {
    "scrolled": true
   },
   "outputs": [
    {
     "name": "stderr",
     "output_type": "stream",
     "text": [
      "/tmp/ipykernel_234396/2378413278.py:2: SettingWithCopyWarning: \n",
      "A value is trying to be set on a copy of a slice from a DataFrame.\n",
      "Try using .loc[row_indexer,col_indexer] = value instead\n",
      "\n",
      "See the caveats in the documentation: https://pandas.pydata.org/pandas-docs/stable/user_guide/indexing.html#returning-a-view-versus-a-copy\n",
      "  df2[\"excluded2\"] = [i in exclude+AIRDROPS for i in df2.index.values]\n"
     ]
    }
   ],
   "source": [
    "df2 = df[df.excluded == False]\n",
    "df2[\"excluded2\"] = [i in exclude+AIRDROPS for i in df2.index.values]\n",
    "df_final = df2[df2[\"excluded2\"] == False]\n",
    "df_final.to_csv(\"./data/AVAX_FINAL.csv\")"
   ]
  },
  {
   "cell_type": "code",
   "execution_count": 19,
   "id": "92920900",
   "metadata": {
    "scrolled": true
   },
   "outputs": [],
   "source": [
    "df3 = df[df.excluded == True]"
   ]
  },
  {
   "cell_type": "code",
   "execution_count": 20,
   "id": "88f6f262",
   "metadata": {},
   "outputs": [],
   "source": [
    "target = 627304"
   ]
  },
  {
   "cell_type": "code",
   "execution_count": 21,
   "id": "3eb512af",
   "metadata": {},
   "outputs": [
    {
     "data": {
      "text/plain": [
       "(627250.0, 627304)"
      ]
     },
     "execution_count": 21,
     "metadata": {},
     "output_type": "execute_result"
    }
   ],
   "source": [
    "check = (\n",
    "    df3.loc[jade.lower()][\"holders_0x80B010450fDAf6a3f8dF033Ee296E92751D603B3.json\"]\n",
    "    + df3.sum().sum()\n",
    "    - df3[\"holders_0x80B010450fDAf6a3f8dF033Ee296E92751D603B3.json\"].sum()\n",
    "    + df2.sum().sum()\n",
    ")\n",
    "check // 1e9, target"
   ]
  },
  {
   "cell_type": "code",
   "execution_count": null,
   "id": "aecc63dd",
   "metadata": {},
   "outputs": [],
   "source": []
  }
 ],
 "metadata": {
  "jupytext": {
   "formats": "ipynb,py:percent"
  },
  "kernelspec": {
   "display_name": "Python 3 (ipykernel)",
   "language": "python",
   "name": "python3"
  },
  "language_info": {
   "codemirror_mode": {
    "name": "ipython",
    "version": 3
   },
   "file_extension": ".py",
   "mimetype": "text/x-python",
   "name": "python",
   "nbconvert_exporter": "python",
   "pygments_lexer": "ipython3",
   "version": "3.8.8"
  }
 },
 "nbformat": 4,
 "nbformat_minor": 5
}
